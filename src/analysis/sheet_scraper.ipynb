{
 "cells": [
  {
   "cell_type": "code",
   "execution_count": 1,
   "id": "5a7e0af1",
   "metadata": {},
   "outputs": [],
   "source": [
    "import requests\n",
    "from bs4 import BeautifulSoup\n",
    "import json\n",
    "import time\n",
    "import gspread\n",
    "from oauth2client.service_account import ServiceAccountCredentials\n",
    "import csv\n",
    "import pandas as pd"
   ]
  },
  {
   "cell_type": "code",
   "execution_count": 2,
   "id": "4cee3dc7",
   "metadata": {},
   "outputs": [],
   "source": [
    "scope = ['https://spreadsheets.google.com/feeds', 'https://www.googleapis.com/auth/drive']\n",
    "credentials = ServiceAccountCredentials.from_json_keyfile_name('credentials.json', scope)"
   ]
  },
  {
   "cell_type": "code",
   "execution_count": 3,
   "id": "dbcf5449",
   "metadata": {},
   "outputs": [],
   "source": [
    "client = gspread.authorize(credentials)\n",
    "spreadsheet = client.open('email-data')\n",
    "worksheet = spreadsheet.get_worksheet(0)"
   ]
  },
  {
   "cell_type": "code",
   "execution_count": 4,
   "id": "255ccfb1",
   "metadata": {},
   "outputs": [],
   "source": [
    "data = worksheet.get_all_values()"
   ]
  },
  {
   "cell_type": "code",
   "execution_count": 5,
   "id": "bde770ea",
   "metadata": {},
   "outputs": [],
   "source": [
    "csv_file = \"email_data.csv\"\n",
    "\n",
    "if not isinstance(data, pd.DataFrame):\n",
    "    data = pd.DataFrame(data)\n",
    "\n",
    "data.to_csv(csv_file, index=False)"
   ]
  },
  {
   "cell_type": "code",
   "execution_count": null,
   "id": "9e234b37",
   "metadata": {},
   "outputs": [],
   "source": []
  }
 ],
 "metadata": {
  "kernelspec": {
   "display_name": "Python 3 (ipykernel)",
   "language": "python",
   "name": "python3"
  },
  "language_info": {
   "codemirror_mode": {
    "name": "ipython",
    "version": 3
   },
   "file_extension": ".py",
   "mimetype": "text/x-python",
   "name": "python",
   "nbconvert_exporter": "python",
   "pygments_lexer": "ipython3",
   "version": "3.11.4"
  }
 },
 "nbformat": 4,
 "nbformat_minor": 5
}
